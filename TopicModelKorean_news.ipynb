{
 "cells": [
  {
   "cell_type": "markdown",
   "metadata": {},
   "source": [
    "## Topic Modeling with Sklearn\n"
   ]
  },
  {
   "cell_type": "markdown",
   "metadata": {},
   "source": [
    "### `크롤링한 네이버 뉴스`를 이용하여 topic modeling을 학습"
   ]
  },
  {
   "attachments": {
    "image.png": {
     "image/png": "[encoded data removed]"
    }
   },
   "cell_type": "markdown",
   "metadata": {},
   "source": [
    "### Topic Modeling이란?\n",
    "\n",
    "참조: https://ratsgo.github.io/from%20frequency%20to%20semantics/2017/06/01/LDA/\n",
    "\n",
    "토픽모델링은 텍스트 형태로 되어 있는 다수의 문서들로부터 공통적으로 내재되어 있는 주제들을 추출하기 위한 방법론이다. <br>\n",
    "토픽모델링의 기본적인 가정은, 저자들이 문서를 작성할 때 먼저 특정한 주제들을 정하고 나서 그러한 주제들로부터 문장을 구성한다는 것이다. 따라서 문서를 구성하는 단어들은 그 주제들로부터 파생되어진 것으로 볼 수 있으며, 토픽모델링은 문서와 단어들에 대해 통계적인 추론을 수행하여 본래의 주제들을 찾아내는 방법이라고 할 수 있다.  <br>\n",
    "이러한 작업을 하기 위해서는 먼저 자연어로 기술되어 있는 문서들에 대해 형태소 분석을 함으로써 문장들을 개별 단어로 분리해야 한다. \n",
    " <br>\n",
    "토픽모델링의 가장 대표적인 알고리즘은 LDA(Latent Dirichlet Allocation)로 알려져 있다.  <br>\n",
    "LDA는 Blei et al. (2003)에 의해 제안된 알고리즘으로, 앞서 설명한 바와 같이, 확률기법을 기반으로 하여 문서의 토픽 분포를 추론한다.  <br>\n",
    "LDA에서 토픽은 주제를 의미하는 용어로 사용되며, 각 문서들이 특정한 주제에 속할 확률분포와 주제로부터 특정 단어들이 파생되어 나올 확률분포가 주어졌을 때, 이 두 확률분포를 조합하여 각 문서들에 들어가는 단어들의 확률분포를 계산해낸다.  <br>\n",
    "아래 그림에서 θ는 문서들이 각 주제들에 속할 확률분포를 나타내며 디리클레분포의 매개변수인 α에 의해 결정된다.  <br>\n",
    "그림에서 N은 특정 문서에 속한 단어의 집합이며, M은 전체 문서의 집합을 나타낸다. z는 문서 내의 단어들이 주제들에 속할 확률분포를 나타내며, 이는 θ에 의한 다항분포로 선택된다.  <br>\n",
    "β는 각 주제가 특정 단어를 생성할 확률을 나타내는 확률분포이며, 결국 z와 β에 의해 실제 문서들의 단어분포인 w가 결정된다.  <br>\n",
    "이 모형에서 w만이 실제로 문서들을 통해 주어진 분포이고 나머지는 모두 잠재변수이다.  <br>\n",
    "LDA 알고리즘에서는 주어진 문서와 토픽들의 사전확률 분포인 α와 토픽 내에서 단어의 사전확률분포인 β의 파라미터 값을 활용해 반복적인 시뮬레이션을 통해 z와 θ를 추정한다. \n",
    "\n",
    "![image.png](attachment:image.png)\n",
    "\n"
   ]
  },
  {
   "cell_type": "markdown",
   "metadata": {},
   "source": [
    "#### 크롤링한 뉴스 데이터를 불러온다."
   ]
  },
  {
   "cell_type": "code",
   "execution_count": 5,
   "metadata": {},
   "outputs": [],
   "source": [
    "import csv\n",
    "text = []\n",
    "y = []\n",
    "\n",
    "with open('navernews_utf.csv', encoding='utf-8') as csvfile:\n",
    "    csvreader = csv.reader(csvfile)\n",
    "    for row in csvreader:\n",
    "        #print(row)\n",
    "        if row and len(row[2]) > 10: #기사 길이가 10자 이상인 경우만\n",
    "#        if row: #그 줄에 내용이 있는 경우에만\n",
    "            text.append(row[2]) # 네이버 뉴스 기사 text 리스트에 추가\n",
    "            y.append(row[1]) #뉴스이름을 text 리스트에 추가"
   ]
  },
  {
   "cell_type": "code",
   "execution_count": 26,
   "metadata": {},
   "outputs": [
    {
     "name": "stdout",
     "output_type": "stream",
     "text": [
      "기사 수: 3864\n",
      "뉴스 : {'머니투데이', '스포츠서울', '뉴시스', '한국일보', '경향신문', '파이낸셜뉴스', '아시아경제', '데일리안', '한겨레', '헤럴드경제', '노컷뉴스', '아이뉴스24', '뉴스1', '동아일보', '국민일보', '디지털타임스', '연합뉴스', 'TV조선', '한국경제', '이데일리', '서울경제', '조선일보', '전자신문', '세계일보', '매일신문'}\n"
     ]
    }
   ],
   "source": [
    "print('기사 수:', len(text))\n",
    "print('뉴스 :', set(y))"
   ]
  },
  {
   "cell_type": "code",
   "execution_count": 7,
   "metadata": {},
   "outputs": [
    {
     "data": {
      "text/plain": [
       "['[앵커]민주당 원내대표 후보로 김태년, 노웅래, 이인영 의원이 등록했습니다. 후보들은 촛불 정신을 이어, 총선 압승을 이끌겠다고 한 목소리를 냈습니다. 김미선 기자입니다.[리포트]오는 8일 치러지는 더불어민주당 원내대표 경선 후보로 이인영, 노웅래, 김태년 의원이 등록했습니다. 촛불 정신을 강조하며, 이인영 \"촛불 정신을 완성하고\" 노웅래 \"촛불 정신의 초심\" 김태년 \"촛불의 국민 승리를\" 총선승리를 이끌겠다고 다짐했습니다. 일찌감치 지난달 21일 출마 선언을 한 이인영 의원은 \"보궐선거에서 나타난 경고를 혁신의 기회로 만들어야 한다\"며 당청 관계에서 당의 역할을 높이겠다고 선언했습니다.이인영 / 더불어민주당 의원(지난달 21일)\"총선 승리를 위한 미드필더가 되어 중원으로 나가겠습니다.\" 노웅래 의원은 \\'중도진보 포용\\'을 내세워 \\'통합된 원팀\\'으로 총선 승리를 이루겠다고 했습니다. 노웅래 / 더불어민주당 의원(어제)\"총선승리에 \\'올인\\' 한다는 결연한 각오로 원내대표 당락과 상관없이 상임위원장 자리는 내려놓겠습니다\" 친문 주류 김태년 의원은 경륜을 내세워 자신이 총선 승리를 이루고 파행 상태인 정국을 풀 적임자라고 강조했습니다. 김태년 / 더불어민주당 의원(어제) \"(나경원 원내대표) 협상 거부하지 마시고 투쟁만 하지 마시고, 대화하고 협상해서 국민이 바라는 합리적 결과를..\"차기 원내대표는 총선에 영향을 미칠 수도 있습니다. 공식 선거운동 기간은 선거일 전날인 오는 7일까지입니다. TV조선 김미선입니다. ☞ 네이버 메인에서 TV조선 구독하기☞ 더 많은 TV조선 뉴스 보기☞ TV조선 뉴스 홈페이지 바로가기* 뉴스제보 : 이메일(tvchosun@chosun.com), 카카오톡(tv조선제보), 전화(1661-0190)김미선 기자(kmsdoo@chosun.com)- Copyrights ⓒ TV조선. 무단전재 및 재배포 금지 -',\n",
       " '[앵커]자유한국당은 신속처리 안건 지정에 반발해, 전국을 돌며 장외투쟁에 나서기로 했습니다. 광화문에선 천막 농성도 검토하고 있습니다. 추경예산과 민생법안이 급한 민주당은 \\'이제부터 열심히 협상하자\\'고 달랬습니다. 최원국 기자입니다.[리포트]나경원 / 자유한국당 원내대표\"함께 싸웁시다\" 신속처리 안건 지정에 한국당은 장외투쟁을 다짐했습니다. 나경원\"헌법수호 투쟁은 결코 멈추지 않아야 합니다. 국회에서, 광장에서 결사항전 해야 합니다. 전방위적 결사항전 투쟁을 이어가야 합니다\" 지도부는 상복을 입었고, 의원총회 장에는 \"민주주의는 죽었다\"는 글씨를 걸었습니다. 박대출 의원은 삭발하고 참석했습니다. 황교안 대표는 광화문광장에 천막을 설치하고 투쟁하겠다고 말했습니다. 황교안 / 자유한국당 대표\"(마음에 들지 않으면) 없는 제도 찾아내고, 처벌하지 않던 방식으로 처벌합니다. 독재의 폐해를 지금 직접 경험하고 있습니다\" 전국 주요 도시를 돌며 호소하는 것도 검토하고 있습니다. 민주당은 산불과 일자리 대책 등을 담은 6조 7000억 원 추경예산 처리가 걱정입니다. \\'이제부터 열심히 협상하자\\'며 한국당을 달랬습니다. 이해찬 / 민주당 대표\"법안이 상정된다고 자동으로 법안이 만들어지는 건 아니고 충분한 대화와 소통이 있어야 된다고 봅니다.\" 민주당은 국회 정상화와 한국당 의원 등에 대한 고발은 별개라는 입장입니다. 국회 사무처도 어제 이름은 거론하지 않았지만 사실상 한국당 의원과 당직자를 겨냥한 검찰 고발 조치를 취했습니다. tv조선 최원국입니다.☞ 네이버 메인에서 TV조선 구독하기☞ 더 많은 TV조선 뉴스 보기☞ TV조선 뉴스 홈페이지 바로가기* 뉴스제보 : 이메일(tvchosun@chosun.com), 카카오톡(tv조선제보), 전화(1661-0190)최원국 기자- Copyrights ⓒ TV조선. 무단전재 및 재배포 금지 -',\n",
       " '북핵 문제 진전 있었으나 외교정책 전반 평가 엇갈려美·中은 대체로 무난…日은 역대 최악 평가도신남방·신북방정책, 외교다변화·신성장동력 확보 두마리 토끼[이데일리 장영은 기자] 문재인 대통령 취임 이후 지난 2년 동안 외교 정책에 있어 ‘한반도 비핵화 프로세스’는 빛과 그늘을 만들었다. 역사적인 남북·북미 정상회담을 이끌며 한반도 평화를 진전시켰다는 점에서는 대체로 후한 점수를 받았지만, ‘북한 문제에만 너무 집중했다’며 주요 4강 외교에 대해서는 비판적인 목소리도 나온다.문재인 대통령이 지난해 5월 9일 일본 도쿄 영빈관 ‘카초노마’에서 열린 제7차 한·일·중 정상회의 공동언론 발표에서 발언하고 있다. 가운데는 아베 신조 일본 총리. 왼쪽은 리커창 중국 국무원 총리.(사진=연합뉴스)◇ 경색된 한일·정체된 한중관계는 과제…“리더십이 필요한 국면”대일(對日) 관계는 문재인 정부의 외교 정책에서 가장 ‘약한고리’다. 미국과는 북핵 문제 해결을 위한 공조도 있지만 관세, 방위비분담금 등 동맹 현안에 있어서도 원만한 협의를 이어갔다. 지난 2017년 사드(THAAD·고고도미사일방어체계) 보복 문제로 최악으로 치달았던 중국과의 관계도 문 대통령과 시진핑 국가 주석과의 정상외교로 어느 정도는 복원됐다는 평가다. 다만 한일관계는 지난 2017년 한일 정부간 위안부 합의의 결과인 화해치유재단 해산, 우리 대법원의 강제징용 배상 판결 등 과거사 문제가 불거지면서 악화일로를 걸었다. 현재까지도 강제징용 판결 후속 조치 관련 공방전이 이어지면서 ‘역대 최악’이라는 이야기까지 나온다. 이면우 세종연구소 부소장은 “현 정부의 투트랙은 기본적으로는 기존 정부에서도 유지해왔던 정경분리와 다르지 않다”면서 “정경분리는 국면에 따라 더 중요한 것을 우선시하는 측면이 있었지만 현재 투트랙은 병행적이다. 역사 우선적인 태도를 보이며 앞으로 나아가지 못하면서 ‘전략적 방치’를 하고 있는 상황”이라고 진단했다. 이 부소장은 “일본이 우리를 필요로 하는 것보다 우리가 일본을 필요로 하는 부분이 크다. 북핵 문제, 경제 협력 등 일본과의 관계를 전략적으로 이용할 수 있는 부분이 많다”면서 “여러가지 문제로 대일관계가 어려운 것은 사실이지만 이럴수록 리더십(정상외교)을 통해 협력할 수 있는 부분은 추진해 나가는 방향으로 갈 필요가 있다”고 말했다.일본과의 관계를 복원하고 답보 상태에 있는 중국과의 협력도 강화하기 위해 한중일 정상회의를 적극 활용하는 방안도 고려할 만하다. 3국 정상회의는 지난 2018년 5월 일본에서 개최됐으며 올해는 중국이 의장국을 맡아 개최할 차례다.  한국과 아세안·인도의 상호방문 및 투자 교역(자료= 신남방정책특별위원회)◇ 신남방·신북방으로 외교저변 확대…신정장 동력 확보도 문 정부 취임 초기부터 추진돼 온 외교 저변 확대를 위한 정책들은 평가할 만하다는 게 정부 안팎의 평가다. 특히 문 대통령은 취임 초기부터 인도·아세안 국가들을 신남방 국가로 설정, 관계를 강화하고 신성장 동력을 확보하겠다고 밝혔다. 아울러 그동안 다소 소외됐던 러시아·중앙아 3국 등과는 신북방정책을 통해 외교 지평과 경제 영토를 넓히겠다는 구상이다.정부의 신남방·신북방 정책은 4강 외교 중심에서 벗어나 외교 다변화를 꾀함과 동시에 외교·안보 상의 갈등이나 이해 관계가 첨예하지 않은 이들 지역과의 경제·문화 교류를 활성화함으로써 상호보완적인 관계를 구축해 나가겠다는 의도가 깔려 있다. 지난 2년간 이들 정책을 국민들에게 알리고 뼈대를 잡았다면 올해부터는 구체적인 성과와 비전을 보여준다는 게 정부의 목표다. 문 대통령의 올해 첫 해외 순방(2월)이 동남아 3개국이었고, 최근 중앙아 3개국을 돌아본 것은 신남방·신북방정책이 구호에 머물지 않을 것이라는 대통령의 의지가 반영됐다는 해석이다. 필리핀과 베트남 대사를 역임한 이혁 한·아세안센터 사무총장은 “자국 중심주의, 국가간 경쟁 심화 등 국제사회가 복잡·다변화 되면서 주요 4강과의 외교는 점점 더 힘들어지는 상황”이라며 “신남방 지역의 경우 잠재력은 풍부한 반면 상대적으로 경제·안보 사안으로 충돌할 여지가 거의 없는 만큼 정부 정책 하에 적극적으로 교류를 활성화하고 기업들의 진출을 돕는 시도는 매우 시의적절하다”고 평가했다.장영은 (bluerain@edaily.co.kr)인스타 친추하면 연극표 쏩니다! [티켓받기▶]꿀잼가득 [영상보기▶] , 청춘뉘우스~ [스냅타임▶]＜ⓒ종합 경제정보 미디어 이데일리 - 무단전재 & 재배포 금지＞',\n",
       " \"[머니투데이 이코노미스트실  ] [[TOM칼럼]]올 1분기 우리나라 경제성장률이 전기 대비 -0.3%(속보치)를 기록했다. 분기 마이너스 성장은 문재인 대통령 재임 중 벌써 두 번째다. 2017년 4분기에도 -0.2%를 기록했다.문 정부는 집권 3년차인 올해에 경제정책의 성과를 체감할 수 있을 것이라고 되풀이 말해 왔다. 특히 지난해 11월 문 대통령은 청와대 간담회 자리에서 “2019년 예산안은 순수하게 우리가 짠 예산”이라며 “신속히 국민 앞에 성과를 보여드려야 한다”고 강조했다. 더군다나 470조원대의 슈퍼예산이다. 그런데 문 정부 첫 예산 집행의 결과가 -0.3% 역성장이라는 초라한 성적표로 나타났다.올 1분기 마이너스 성장의 원인으로 △세계경제 성장세 둔화, 반도체 가격 하락 등 대외여건의 악화에 따른 수출 감소와 △대외 불확실성 지속으로 인한 민간부문 투자 부진, 그리고 △정부부문 투자 지연 등을 꼽을 수 있다. 거기에다 지난해 4분기와 1분기 경제성장률이 1.0%로 높았기 때문에 올 1분기 성장률이 상대적으로 낮게 나오는 기저효과도 작용했다.그럼에도(어떤 이유이든 간에) 문 대통령 재임 중 벌써 두 번의 분기 마이너스 성장을 기록했다는 사실은 변명의 여지가 없다. 문 대통령에 대한 역사적 평가에서 영원히 지워지지 않는 오점으로 남는다.1980년 이래 역대 대통령 중 두 번 이상 마이너스 성장을 기록한 대통령은 그리 많지 않다. 노태우(1988년 2분기 -2.0%, 1999년 1분기 -0.1%)와 김대중(1998년 1분기 -7.0%, 1998년 2분기 -0.6%, 2000년 4분기 -0.7%) 전 대통령 뿐이다.노 전 대통령의 경우엔 결국 연간으로 높은 경제성장률을 달성했기 때문에(1988년 11.9%, 1989년 7.0%) 분기 마이너스 성장은 크게 문제되지 않았다.김 전 대통령은 IMF 외환위기 탓이고 그 다음해부턴 높은 성장률을 기록하며(1999년 11.3%, 2000년 8.9%, 2001년 4.5%, 2002년 7.4%) 빠르게 회복했기에 오히려 경제위기를 잘 극복한 대통령으로 평가받는다.그럼 문 대통령은 역사적으로 어떤 평가받을 수 있을까. 2017년 4분기 마이너스 성장은 그해 연간 3.1%의 성장률을 달성하면서 그나마 상쇄될 수 있었다. 올해도 그렇게 될 수 있을까?박양수 한국은행 국장은 1분기 -0.3% 경제성장률이 발표된 25일 “2분기는 기저효과로 1.2%정도 성장하고, 추경효과가 나타나는 3~4분기에 0.8~0.9% 성장하면 연간 목표치 2.6~2.7% 성장률 달성이 가능하다”고 밝혔다.이호승 기획재정부 1차관도 26일 ‘제4차 물가관계차관회의 겸 제7차 혁신성장 전략점검회의’에서 “2분기 이후 재정 조기집행 효과가 본격화되면 반등요인으로 작용할 것”이라며 2분기 이후 성장률 회복에 무게를 뒀다. 홍남기 부총리 겸 기획재정부 장관은 26일 열린 경제활력대책회의에서 “(1분기 마이너스 성장에도) 현재로서 정부 성장률 전망치(2.6~2.7%)를 수정할 계획이 없다”며 성장률 후퇴는 없다고 못 박았다.  이주열 한국은행 총재도 26일 열린 금융협의회에서 “현재 우리 경제가 어려운 상황에 처해 있는 것이 사실”이라면서도 “1분기 마이너스 성장은 (기저효과 등) 이례적 요인이 어느 정도 영향을 미친 만큼 과도하게 비관적으로 해석하는 것은 경계해야 한다”며 앞으로 상황에 대해서는 비교적 낙관적인 태도를 보였다. IMF도 최근 글로벌 경기가 하반기엔 반등할 것으로 전망했다.문 대통령도 29일 청와대 수석 보좌관 회의에서 현 경제상황이 “엄중하다”면서도 “1분기 부진을 극복하고 2분기부터는 점차 회복돼 개선될 전망”이라고 말했다.문 대통령이 재임 중 두 번의 마이너스 성장 기록이라는 역사적 오점을 극복할 수 있는 유일한 방법은 결국 2분기 이후 경제성장률을 끌어올려 연간으로 정부 목표치를 (초과)달성하는 것밖엔 없다.이에 대해 문 대통령은 “재정의 적극적인 역할이 어느 때보다 절실하다”고 말하며 기존 예산의 조기 집행과 추가경정예산(추경)의 신속한 처리에 희망을 걸고 있다. 문 대통령은 470조원의 기존 예산과 6조7000억원의 추경만으로 2분기 이후 경제성장률을 회복시킬 수 있다고 믿고 있는지도 모른다.하지만 많은 경제전문가들은 이에 대해 회의적이다. 당장 홍 부총리도 25일 열린 긴급 경제장관회의에서 “추경만으로 경제회복이 쉽지 않다”고 밝혔다.지금은 확장적 재정지출뿐만 아니라 ‘플랜 B’까지 모두 동원해야 할 판이다. 예컨대 1분기 마이너스 성장의 주된 요인의 하나가 기업투자 부진이었던 만큼 기업투자 심리가 되살아나야만 성장흐름의 회복을 앞당길 수 있다. 따라서 지금껏 기업투자를 막고 있던 장애물을 걷어내서라도 경제성장률을 회복시켜야 한다. 재임 중 세 번째 마이너스 성장이라는 오점을 남기지 않으려면 말이다.이코노미스트실   ▶진주 아파트 방화·살인범은 왜?▶조 변호사의 가정상담소  ▶한달 내내 쓰는 마스크 당첨 기회  <저작권자 ⓒ '돈이 보이는 리얼타임 뉴스' 머니투데이, 무단전재 및 재배포 금지>\",\n",
       " \"◇청와대-대통령 통상업무◇국무총리실-국무총리 중동·중남미 순방◇감사원-원장 통상업무◇외교부-장관16:00 한성대 강연(한성대)-1차관 쿠웨이트, 콜롬비아, 에콰도르 출장-2차관 통상업무◇통일부-장관10:30 지자체의 남북교류협력 활성화를 위한 제도 개선방안 토론회 축사(국회 의원회관)-차관 통상업무◇국방부-장관 내부집무-차관  사우디·터키 국외출장(29~5일)◇행정안전부-장관07:30 당정청 회의 (의원회관 306호)-차관   09:30 실국장회의 (집무실)  ◇여성가족부-장관 일정 없음◇국민권익위원회-위원장09:30 성희롱·성폭력 예방교육(정부세종청사 6동 대강당)◇더불어민주당-대표 09:00 한국노총 2019 노동절 마라톤대회(여의도공원 문화의 마당)-원내대표 07:30 강원도 산불피해 종합복구계획 당정협의 (의원회관 306호)◇자유한국당 -대표 09:00 한국노총 2019 노동절 마라톤대회(여의도공원 문화의마당) 10:30 당대표 및 최고위원‧중진의원 연석회의(본청 228호)-원내대표 10:30 당대표 및 최고위원‧중진의원 연석회의 14:00 反헌법 패스트트랙 7일간 저지투쟁 관련 기자회견(본청 원내대표실)◇바른미래당 -대표 09:00 한국노총 2019 노동절 마라톤대회 10:00 제91차 최고위원회의 (본청 215호) -원내대표 07:20 TBS라디오 '김어준의 뉴스공장' 전화인터뷰  07:35 MBC라디오 '심인보의 시선집중' 전화인터뷰  08:05 KBS1라디오 '김경래의 최강시사' 전화인터뷰  10:00 제91차 최고위원회의  ◇민주평화당-대표09:00 한국노총 2019 노동절 마라톤 대회09:30 제9차 국민 경청최고위원회의(본청 226호)-원내대표 09:30 제9차 국민 경청최고위원회의◇정의당-대표 08:10 tbs 김어준의 뉴스공장 인터뷰 09:00 한국노총 노동절 마라톤대회14:00 제129주년 세계 노동자 대회(서울광장)-원내대표 14:00 제129주년 세계 노동자 대회▶ [ 해피펫 ]  [ KFF포럼 2019 ] ▶ 네이버 메인에서 [뉴스1] 구독하기![© 뉴스1코리아(news1.kr), 무단 전재 및 재배포 금지]\",\n",
       " \"【서울=뉴시스】이재은 기자 = ◇청와대【대통령】통상일정◇총리실【총리】쿠웨이트, 콜롬비아, 에콰도르 공식방문◇국방부【장관】통상일정◇외교부【장관】16:00 한성대 강연◇통일부【장관】통상일정◇더불어민주당【대표】09:00 한국노총 2019 노동절 마라톤대회(여의도공원 문화의마당)【원내대표】07:30 강원도 산불피해 종합복구계획 당정청협의(국회 의원회관 306호)◇자유한국당【대표】09:00 한국노총 2019 노동절 마라톤대회(여의도공원 문화의마당(서울 영등포구 여의도동)10:30 당대표 및 최고위원·중진의원 연석회의(국회 본관 228호)【원내대표】10:30 당대표 및 최고위원·중진의원 연석회의(국회 본관 228호)14:00 反헌법 패스트트랙 7일간 저지투쟁 관련 기자회견(국회 본관 원내대표실)◇바른미래당【대표】09:00 한국노총 2019 노동절 마라톤대회(여의도공원 문화의마당)10:00 제91차 최고위원회의(본청 215호)【원내대표】07:20 TBS-R '김어준의 뉴스공장' 전화인터뷰 07:35 MBC-R '심인보의 시선집중' 전화인터뷰 08:05 KBS1-R '김경래의 최강시사' 전화인터뷰10:00 제91차 최고위원회의(본청 215호)◇민주평화당【대표】09:00 한국노총 2019 노동절 마라톤 대회(여의도공원 문화의 마당) 09:30 제9차 국민경청최고위원회의(본청 226호)【원내대표】09:30 제9차 국민경청최고위원회의(본청 226호)◇정의당【대표】08:10 tbs 김어준의 뉴스공장 인터뷰 09:00 한국노총 노동절 마라톤대회(여의도 문화마당)14:00 제129주년 세계 노동자 대회(서울광장)【원내대표】14:00 제129주년 세계 노동자 대회(서울광장)lje@newsis.com▶ 네이버에서 뉴시스 채널 구독하기▶ 뉴시스 빅데이터 MSI 주가시세표 바로가기 <저작권자ⓒ 공감언론 뉴시스통신사. 무단전재-재배포 금지.>\",\n",
       " '문재인 대통령이 30일 경기 화성시 삼성전자 화성캠퍼스 부품연구동(DSR)에서 열린 ‘시스템반도체 비전 선포식’에 참석해 반도체 업계 최초로 극자외선(EUV) 기반 7나노미터(㎚) 공정을 통해 양산된 웨이퍼ㆍ칩에 서명하고 있다. 문 대통령이 국내 삼성전자 공장을 방문한 건 취임 뒤 처음이다. 맨 왼쪽은 이재용 삼성전자 부회장. 류효진 기자▶[한국일보 페이스북 친구맺기] [한국일보 홈 바로가기]▶네이버 채널에서 한국일보를 구독하세요!',\n",
       " '檢, 대통령기록관 문건서 확인… 경찰 보고 이틀뒤 靑서 임명경찰이 김학의 전 법무부 차관(63)의 차관 내정 당일인 2013년 3월 13일 “김 전 차관 동영상을 입수할 수 있을 것 같다”며 청와대에 구두로 보고한 것으로 30일 확인됐다. 김 전 차관 관련 의혹을 수사 중인 검찰 수사단(단장 여환섭 청주지검장)은 최근 대통령기록관에 보관된 박근혜 정부 당시 청와대 문건을 열람해 이 같은 사실을 파악했다.  수사단에 따르면 대전고검장에 재직 중이던 김 전 차관의 ‘차관 내정설’이 퍼진 2013년 3월 초 대통령민정수석실은 김 전 차관에 대한 보고서를 작성해 안봉근 당시 대통령제2부속비서관 등 이른바 ‘문고리 3인방’에게 처음 보고했다. ‘김 전 차관의 성관계 동영상이 존재한다는 첩보를 경찰이 입수했으나 관련 동영상 등이 확인되지 않아 신빙성이 떨어짐’이라는 내용이었다.  당시 경찰은 청와대에 서면 보고를 하지 않고, 구두로만 “김 전 차관의 성관계 동영상이 있다는 첩보를 입수했다”고 보고했다. 이에 민정수석실 관계자가 “동영상을 확인했느냐” “내사에 착수했느냐”고 재차 확인하자 경찰은 “관련 정보를 입수했을 뿐이다. 내사도 아직”이라며 “동영상을 확인하지는 못했다”고 보고했다고 한다. 민정수석실은 해당 정보를 신빙성이 낮은 첩보 수준으로 판단한 것으로 전해졌다.  경찰의 김 전 차관에 대한 두 번째 청와대 구두 보고 시점은 김 전 차관 내정 당일인 2013년 3월 13일 오후였다. 당시 민정수석실은 ‘경찰이 김 전 차관 동영상을 입수할 수 있을 것 같다고 함’이라는 내용의 보고서를 작성한 것으로 알려졌다.  하지만 이틀 뒤(3월 15일) 김 전 차관은 차관으로 임명됐다. 당시 민정수석실이 경찰의 정보가 정확하지 않다고 판단해 김 전 차관 내정을 철회해야 한다는 보고를 박 전 대통령에게 하지 못한 것으로 수사단은 보고 있다.  수사단은 당시 경찰 측에 김 전 차관 동영상을 처음 건넨 것으로 알려진 사업가 권모 씨(여)를 30일 소환해 그 구체적인 경위를 조사했다. 수사단은 권 씨가 2013년 3월 이전에 김 전 차관 등 고위층 인사의 성접대 장면이 담긴 동영상을 경찰 측에 건넸을 가능성이 높은 것으로 보고 있다. 권 씨는 김 전 차관에게 성접대를 한 건설업자 윤중천 씨와 과거 내연 관계였다. 경찰은 2013년 3월 19일 김 전 차관 내사에 착수했으며, 공교롭게도 내사 착수 당일 김 전 차관 동영상을 확보했다고 밝혔다. 김 전 차관은 3월 21일 차관직에서 물러났다.김동혁 hack@donga.com·정성택 기자▶ 동아일보 단독 뉴스 / 트렌드 뉴스▶ 동아일보 채널 구독하고 #에어팟2세대#아이패드미니5세대 받자!ⓒ 동아일보 & donga.com, 무단 전재 및 재배포 금지',\n",
       " '금융협력센터 만들고 펀드 조성… 6월 디지털경제국제포럼 개최대통령 직속 신남방정책특별위원회는 30일 전체회의를 열어 신남방금융협력센터 설립을 추진하고 4차 산업혁명 분야로 국내 기업 진출을 확대하기 위해 6월에 ‘신남방 디지털경제국제포럼’을 개최하기로 했다. 대통령경제보좌관인 주형철 신남방정책특별위원장은 “녹록지 않은 대내외 경제여건을 감안하면 경제협력 중요성이 한층 커지고 있는 시점”이라며 “신남방정책 주요 영역도 4차 산업혁명 분야 제조 및 서비스, 디지털 통상 등 혁신산업 분야까지 광범위하게 확장돼야 할 것”이라고 밝혔다. 이날 회의에서 신남방정책특별위원회는 50개 과제를 선정해 범부처적으로 추진하기로 했다. 이에 따라 국내 기업 진출의 최대 걸림돌인 금융 지원 확대를 위한 신남방금융협력센터 설립을 검토하고 2022년까지 1조 원 규모의 금융보증 지원을 추진하기로 했다. 또 인프라 프로젝트 수주 지원을 위한 1000억 원 규모의 ‘한-아세안(ASEAN·동남아시아국가연합) 인프라펀드’를 조성하고 한-아세안 스타트업 국제기구도 설립할 예정이다. 이와 함께 한국과 동남아 국가 간 교류 확대를 위해 베트남, 필리핀, 인도네시아에 대해선 6월부터 단체전자비자 발급을 허용하기로 하고 케이팝 콘서트인 ‘K-Con 2019 태국’ 등 한류 문화행사도 개최하기로 했다.문병기 기자 weappon@donga.com▶ 동아일보 단독 뉴스 / 트렌드 뉴스▶ 동아일보 채널 구독하고 #에어팟2세대#아이패드미니5세대 받자!ⓒ 동아일보 & donga.com, 무단 전재 및 재배포 금지',\n",
       " '[패스트트랙 후폭풍]‘정치 실종’ 방관하는 靑조국 대통령민정수석비서관(왼쪽)과 강기정 대통령정무 수석비서관이 30일 청와대에서 국무회의가 열리기 전 대화를 나누고 있다. 청와대사진기자단“‘지금은 때가 아니고, 냉각기를 가져야 한다’는 말만 하고 있으니….” 청와대 관계자는 패스트트랙(신속처리안건) 정국에서 청와대 정무 라인의 활동에 대한 질문에 30일 이같이 답했다. 여야의 대치가 극한까지 치달은 상황에서 청와대라도 물밑 조율에 나서야 한다는 목소리가 많았지만 청와대는 관전자에 그쳤다. 오히려 조국 대통령민정수석비서관은 잇따른 페이스북 게시물로 자유한국당을 자극했고, 문재인 대통령은 “매우 안타깝다”고만 했다.  강기정 대통령정무수석비서관을 비롯한 청와대 정무 라인은 이번 패스트트랙 정국에서 한국당은 물론이고 바른미래당과도 별다른 접촉을 하지 않은 것으로 알려졌다. 바른미래당 관계자는 “청와대로부터 어떠한 접촉도 없었다”고 했다. 국회 일이라는 이유로 모든 상황을 더불어민주당에 떠맡긴 것. 한국당 황교안 대표가 당 대표직을 맡은 지 두 달여가 지났지만 아직 문 대통령과의 어떠한 접촉도 없다. 그 대신 청와대 정무 라인은 패스트트랙에 대한 낙관적인 태도를 이어갔다. 한 참모는 “상황이 격화된 지난달 25일 이후부터 정무 라인은 계속 ‘오늘은 (패스트트랙이) 된다’는 분위기였다”고 전했다. 청와대 관계자는 “국회 상황이 워낙 치열하다 보니 청와대가 움직일 여지가 없었다”고 설명했다. 조 수석은 오히려 이런 치열한 국회 상황에 기름을 부었다. 고위공직자비리수사처(공수처) 문제를 담당하는 조 수석은 지난달 25일부터 ‘페이스북 정치’를 이어갔다. 조 수석은 30일 새벽 공수처 설치 법안의 패스트트랙 성사가 이뤄진 직후에도 ‘새로운 시작’이라는 제목의 게시물에서 “의회주의적 타협의 산물”이라고 했다. 한 여당 의원은 “여당 내에서도 조 수석을 두고 ‘차라리 가만히 좀 있는 게 도와주는 것’이란 반응이 주를 이뤘다”고 전했다. 국회의 극한 대치는 청와대에 유리할 게 없다. 문 대통령은 지난달 29일 “추가경정예산(추경) 처리가 늦어질수록 국민의 삶과 민생 경제에 부담이 늘어난다”고 말했다. 추경의 조속한 처리를 촉구한 것이지만 청와대가 계속해서 뒷짐을 지고 있다면 국회의 공전은 길어지고 그만큼 추경 처리가 어려워질 수밖에 없다. 여기에 문 대통령은 기업의 투자와 혁신을 연일 독려하고 있지만 이를 제도적으로 뒷받침할 입법 역시 국회가 정상화된 뒤에야 가능하다.  하지만 청와대는 “한국당이 지금은 강하게 반발하고 있지만 서서히 출구 전략을 찾지 않겠느냐”는 태도다. 먼저 나서서 설득하기보다는, 한국당이 스스로 전략을 바꾸기를 기다리겠다는 의미다. 청와대의 ‘마이웨이’ 역시 더 지속될 것으로 보인다. 이에 따라 경색된 정국을 풀어가는 역할도 결국 청와대가 아닌 여당이 맡을 가능성이 높다는 관측이 나온다. 민주당은 8일 새 원내대표가 선출되면 추경을 고리로 한국당의 국회 복귀를 타진하겠다는 계획이다. 민주당이 한국당 의원들의 국회 선진화법 위반 추가 고발을 미룬 것도 물밑 협상을 염두에 둔 유화 제스처다.  그러나 한국당은 민주당을 넘어 청와대를 정조준하고 있어 이런 전략이 효력을 발휘할지는 미지수다. 여권 관계자는 “문 대통령도 야당 대표 시절 박근혜 당시 대통령을 향해 전면전을 선포한 것처럼 야당은 숙명적으로 청와대를 겨냥할 수밖에 없다”며 “결국 청와대가 여야정 협의체를 비롯해 다양한 물밑 카드를 제시할 필요가 있다”고 말했다. 한상준 alwaysj@donga.com·박효목 기자▶ 동아일보 단독 뉴스 / 트렌드 뉴스▶ 동아일보 채널 구독하고 #에어팟2세대#아이패드미니5세대 받자!ⓒ 동아일보 & donga.com, 무단 전재 및 재배포 금지']"
      ]
     },
     "execution_count": 7,
     "metadata": {},
     "output_type": "execute_result"
    }
   ],
   "source": [
    "text[:10]"
   ]
  },
  {
   "cell_type": "markdown",
   "metadata": {},
   "source": [
    "#### 한글 처리를 위해서는 konlpy가 필요\n",
    "\n",
    "topic modeling은 count vector를 사용하므로 sklearn의 CountVectorizer를 사용"
   ]
  },
  {
   "cell_type": "code",
   "execution_count": 8,
   "metadata": {},
   "outputs": [],
   "source": [
    "from konlpy.tag import Okt #konlpy에서 Twitter 형태소 분석기를 import\n",
    "twitter_tag = Okt()\n",
    "\n",
    "from sklearn.feature_extraction.text import CountVectorizer\n",
    "\n",
    "vec = CountVectorizer(tokenizer=twitter_tag.nouns, #우선은 명사만 사용\n",
    "                      decode_error ='ignore', \n",
    "                      max_df=0.5, #너무 자주 나타나는 단어는 제외, 책에서는 0.15를 사용\n",
    "                      #min_df = 3, #3개 미만의 문서에서 나타난 단어는 제외, 여기서는 max_features를 1000으로 제한하므로 별 필요 없음\n",
    "                      max_features = 1000) #적당한 대상 단어 수를 선택\n",
    "review_cv = vec.fit_transform(text)"
   ]
  },
  {
   "cell_type": "code",
   "execution_count": 9,
   "metadata": {},
   "outputs": [
    {
     "data": {
      "text/plain": [
       "(3864, 1000)"
      ]
     },
     "execution_count": 9,
     "metadata": {},
     "output_type": "execute_result"
    }
   ],
   "source": [
    "review_cv.shape"
   ]
  },
  {
   "cell_type": "markdown",
   "metadata": {},
   "source": [
    "#### sklearn의 LatentDirichletAllocation을 이용하여 topic modeling 수행\n",
    "다양한 argument를 적절히 이용하는 것이 중요"
   ]
  },
  {
   "cell_type": "code",
   "execution_count": 10,
   "metadata": {},
   "outputs": [],
   "source": [
    "from sklearn.decomposition import LatentDirichletAllocation\n",
    "\n",
    "lda = LatentDirichletAllocation(n_components = 10, #추출할 topic의 수를 지정\n",
    "                                max_iter=25, #max_iter는 최종 모형에서는 5,000~10,000번 시도한다고 알려져 있음\n",
    "                                topic_word_prior= 0.1, doc_topic_prior=1.0,\n",
    "                                #topic_word_prior: beta, doc_topic_prior: alpha\n",
    "                                #일반적으로 beta는 0.1로 고정하고 alpha를 50/topic의 수 근처의 값을 시도\n",
    "                                #alpha와 beta는 낮은 값을 사용할수록 특정 토픽들이 두드러지도록 하는 효과가 있다고 합\n",
    "                                learning_method='batch', #'batch'는 'online'에 비해 더 성능이 좋고 느림, 현재는 default\n",
    "                                n_jobs= -1, #사용 processor 수, None이면 1, -1이면 모두 사용\n",
    "                                random_state=0)\n",
    "\n",
    "review_topics = lda.fit_transform(review_cv)"
   ]
  },
  {
   "cell_type": "code",
   "execution_count": 11,
   "metadata": {},
   "outputs": [
    {
     "name": "stdout",
     "output_type": "stream",
     "text": [
      "topic-word distribution dimension: (10, 1000)\n",
      "document-topic distribution dimenstion (3864, 10)\n"
     ]
    }
   ],
   "source": [
    "print('topic-word distribution dimension:', lda.components_.shape)\n",
    "print('document-topic distribution dimenstion', review_topics.shape)"
   ]
  },
  {
   "cell_type": "markdown",
   "metadata": {},
   "source": [
    "#### topic을 보기 쉽게 출력하는 함수를 작성"
   ]
  },
  {
   "cell_type": "code",
   "execution_count": 12,
   "metadata": {},
   "outputs": [],
   "source": [
    "def print_top_words(model, feature_names, n_top_words):\n",
    "    for topic_idx, topic in enumerate(model.components_):\n",
    "        print(\"Topic #%d: \" % topic_idx, end='')\n",
    "        print(\", \".join([feature_names[i] for i in topic.argsort()[:-n_top_words - 1:-1]]))\n",
    "        #print(\", \".join([feature_names[i]+'('+str(topic[i])+')' for i in topic.argsort()[:-n_top_words - 1:-1]]))\n",
    "        # 위 slicing에서 맨 뒤 -1은 역순을 의미, 역순으로 했을 때 처음부터 n_top_words까지\n",
    "    print()"
   ]
  },
  {
   "cell_type": "code",
   "execution_count": 13,
   "metadata": {},
   "outputs": [
    {
     "name": "stdout",
     "output_type": "stream",
     "text": [
      "Topic #0: 고, 한국, 등, 청원, 국민, 노동, 의원, 며, 이, 민주당\n",
      "Topic #1: 전, 사회, 문, 회, 원로, 고, 간담, 말, 국정, 오찬\n",
      "Topic #2: 치매, 문, 센터, 고, 안심, 어르신, 가족, 말, 며, 수\n",
      "Topic #3: 경제, 정부, 평가, 정책, 등, 문, 일자리, 성장, 취임, 소득\n",
      "Topic #4: 문, 고, 검찰, 대담, 경찰, 말, 수석, 수, 대해, 개혁\n",
      "Topic #5: 연합뉴스, 어린이, 영상, 홈, 오늘, 뭐, 쇼, 행사, 채널, 초청\n",
      "Topic #6: 뉴시스, 언론, 저작권, 공감, 통신사, 대사, 정책, 관, 청년, 비서\n",
      "Topic #7: 사람, 수, 평화, 한국, 한반도, 세계, 국민, 시민, 우리, 국가\n",
      "Topic #8: 트럼프, 북한, 식량, 통화, 지원, 미국, 정상, 고, 대해, 대북\n",
      "Topic #9: 북한, 발사, 발사체, 고, 미사일, 대화, 단거리, 문, 상황, 날\n",
      "\n"
     ]
    }
   ],
   "source": [
    "print_top_words(lda,vec.get_feature_names(), 10)"
   ]
  },
  {
   "cell_type": "markdown",
   "metadata": {},
   "source": [
    "#### 한 자로 구성된 명사들은 의미파악이 어려우므로 삭제할 필요가 있음\n",
    "두 자 이상만 반환하는 함수를 작성"
   ]
  },
  {
   "cell_type": "code",
   "execution_count": 14,
   "metadata": {},
   "outputs": [
    {
     "data": {
      "text/plain": [
       "['앵커',\n",
       " '자유',\n",
       " '한국',\n",
       " '신속',\n",
       " '처리',\n",
       " '안건',\n",
       " '지정',\n",
       " '반발',\n",
       " '전국',\n",
       " '돌',\n",
       " '장외',\n",
       " '투쟁',\n",
       " '광화문',\n",
       " '천막',\n",
       " '농성',\n",
       " '검토',\n",
       " '추경',\n",
       " '예산',\n",
       " '민생',\n",
       " '법안',\n",
       " '민주당',\n",
       " '이제',\n",
       " '협상',\n",
       " '고',\n",
       " '최원',\n",
       " '국',\n",
       " '기자',\n",
       " '리포트',\n",
       " '나경원',\n",
       " '자유',\n",
       " '한국',\n",
       " '원내대표',\n",
       " '신속',\n",
       " '처리',\n",
       " '안건',\n",
       " '지정',\n",
       " '한국',\n",
       " '장외',\n",
       " '투쟁',\n",
       " '다짐',\n",
       " '나경원',\n",
       " '헌법',\n",
       " '수호',\n",
       " '투쟁',\n",
       " '결코',\n",
       " '국회',\n",
       " '광장',\n",
       " '결사',\n",
       " '항전',\n",
       " '방위',\n",
       " '결사',\n",
       " '항전',\n",
       " '투쟁',\n",
       " '어가',\n",
       " '도부',\n",
       " '상복',\n",
       " '의원',\n",
       " '총회',\n",
       " '장',\n",
       " '민주주의',\n",
       " '글씨',\n",
       " '박대출',\n",
       " '의원',\n",
       " '삭발',\n",
       " '참석',\n",
       " '황교안',\n",
       " '대표',\n",
       " '광화문',\n",
       " '광장',\n",
       " '천막',\n",
       " '설치',\n",
       " '투쟁',\n",
       " '말',\n",
       " '황교안',\n",
       " '자유',\n",
       " '한국',\n",
       " '대표',\n",
       " '마음',\n",
       " '제도',\n",
       " '처벌',\n",
       " '방식',\n",
       " '처벌',\n",
       " '독재',\n",
       " '폐해',\n",
       " '지금',\n",
       " '직접',\n",
       " '경험',\n",
       " '전국',\n",
       " '주요',\n",
       " '도시',\n",
       " '돌',\n",
       " '호소',\n",
       " '것',\n",
       " '검토',\n",
       " '민주당',\n",
       " '산불',\n",
       " '일자리',\n",
       " '대책',\n",
       " '등',\n",
       " '원',\n",
       " '추경',\n",
       " '예산',\n",
       " '처리',\n",
       " '걱정',\n",
       " '이제',\n",
       " '협상',\n",
       " '며',\n",
       " '한국',\n",
       " '이해찬',\n",
       " '민주당',\n",
       " '대표',\n",
       " '법안',\n",
       " '상정',\n",
       " '자동',\n",
       " '법안',\n",
       " '건',\n",
       " '대화',\n",
       " '소통',\n",
       " '민주당',\n",
       " '국회',\n",
       " '정상화',\n",
       " '한국',\n",
       " '의원',\n",
       " '등',\n",
       " '대한',\n",
       " '고발',\n",
       " '별개',\n",
       " '입장',\n",
       " '국회',\n",
       " '사무',\n",
       " '처',\n",
       " '어제',\n",
       " '이름',\n",
       " '거론',\n",
       " '사실',\n",
       " '한국',\n",
       " '의원',\n",
       " '당직',\n",
       " '겨냥',\n",
       " '검찰',\n",
       " '고발',\n",
       " '조치',\n",
       " '취',\n",
       " '조선',\n",
       " '최원',\n",
       " '국',\n",
       " '네이버',\n",
       " '메인',\n",
       " '조선',\n",
       " '구독',\n",
       " '더',\n",
       " '조선',\n",
       " '뉴스',\n",
       " '보기',\n",
       " '조선',\n",
       " '뉴스',\n",
       " '홈페이지',\n",
       " '바로가기',\n",
       " '뉴스',\n",
       " '제보',\n",
       " '이메일',\n",
       " '카카오',\n",
       " '톡',\n",
       " '조선',\n",
       " '제보',\n",
       " '전화',\n",
       " '최원',\n",
       " '국',\n",
       " '기자',\n",
       " '조선',\n",
       " '무단',\n",
       " '재',\n",
       " '및',\n",
       " '재',\n",
       " '배포',\n",
       " '금지']"
      ]
     },
     "execution_count": 14,
     "metadata": {},
     "output_type": "execute_result"
    }
   ],
   "source": [
    "twitter_tag.nouns(text[1])"
   ]
  },
  {
   "cell_type": "code",
   "execution_count": 15,
   "metadata": {},
   "outputs": [],
   "source": [
    "def tokenizer(str):\n",
    "    return [token for token in twitter_tag.nouns(str) if len(token) > 1]"
   ]
  },
  {
   "cell_type": "code",
   "execution_count": 16,
   "metadata": {},
   "outputs": [
    {
     "data": {
      "text/plain": [
       "['앵커',\n",
       " '자유',\n",
       " '한국',\n",
       " '신속',\n",
       " '처리',\n",
       " '안건',\n",
       " '지정',\n",
       " '반발',\n",
       " '전국',\n",
       " '장외',\n",
       " '투쟁',\n",
       " '광화문',\n",
       " '천막',\n",
       " '농성',\n",
       " '검토',\n",
       " '추경',\n",
       " '예산',\n",
       " '민생',\n",
       " '법안',\n",
       " '민주당',\n",
       " '이제',\n",
       " '협상',\n",
       " '최원',\n",
       " '기자',\n",
       " '리포트',\n",
       " '나경원',\n",
       " '자유',\n",
       " '한국',\n",
       " '원내대표',\n",
       " '신속',\n",
       " '처리',\n",
       " '안건',\n",
       " '지정',\n",
       " '한국',\n",
       " '장외',\n",
       " '투쟁',\n",
       " '다짐',\n",
       " '나경원',\n",
       " '헌법',\n",
       " '수호',\n",
       " '투쟁',\n",
       " '결코',\n",
       " '국회',\n",
       " '광장',\n",
       " '결사',\n",
       " '항전',\n",
       " '방위',\n",
       " '결사',\n",
       " '항전',\n",
       " '투쟁',\n",
       " '어가',\n",
       " '도부',\n",
       " '상복',\n",
       " '의원',\n",
       " '총회',\n",
       " '민주주의',\n",
       " '글씨',\n",
       " '박대출',\n",
       " '의원',\n",
       " '삭발',\n",
       " '참석',\n",
       " '황교안',\n",
       " '대표',\n",
       " '광화문',\n",
       " '광장',\n",
       " '천막',\n",
       " '설치',\n",
       " '투쟁',\n",
       " '황교안',\n",
       " '자유',\n",
       " '한국',\n",
       " '대표',\n",
       " '마음',\n",
       " '제도',\n",
       " '처벌',\n",
       " '방식',\n",
       " '처벌',\n",
       " '독재',\n",
       " '폐해',\n",
       " '지금',\n",
       " '직접',\n",
       " '경험',\n",
       " '전국',\n",
       " '주요',\n",
       " '도시',\n",
       " '호소',\n",
       " '검토',\n",
       " '민주당',\n",
       " '산불',\n",
       " '일자리',\n",
       " '대책',\n",
       " '추경',\n",
       " '예산',\n",
       " '처리',\n",
       " '걱정',\n",
       " '이제',\n",
       " '협상',\n",
       " '한국',\n",
       " '이해찬',\n",
       " '민주당',\n",
       " '대표',\n",
       " '법안',\n",
       " '상정',\n",
       " '자동',\n",
       " '법안',\n",
       " '대화',\n",
       " '소통',\n",
       " '민주당',\n",
       " '국회',\n",
       " '정상화',\n",
       " '한국',\n",
       " '의원',\n",
       " '대한',\n",
       " '고발',\n",
       " '별개',\n",
       " '입장',\n",
       " '국회',\n",
       " '사무',\n",
       " '어제',\n",
       " '이름',\n",
       " '거론',\n",
       " '사실',\n",
       " '한국',\n",
       " '의원',\n",
       " '당직',\n",
       " '겨냥',\n",
       " '검찰',\n",
       " '고발',\n",
       " '조치',\n",
       " '조선',\n",
       " '최원',\n",
       " '네이버',\n",
       " '메인',\n",
       " '조선',\n",
       " '구독',\n",
       " '조선',\n",
       " '뉴스',\n",
       " '보기',\n",
       " '조선',\n",
       " '뉴스',\n",
       " '홈페이지',\n",
       " '바로가기',\n",
       " '뉴스',\n",
       " '제보',\n",
       " '이메일',\n",
       " '카카오',\n",
       " '조선',\n",
       " '제보',\n",
       " '전화',\n",
       " '최원',\n",
       " '기자',\n",
       " '조선',\n",
       " '무단',\n",
       " '배포',\n",
       " '금지']"
      ]
     },
     "execution_count": 16,
     "metadata": {},
     "output_type": "execute_result"
    }
   ],
   "source": [
    "tokenizer(text[1])"
   ]
  },
  {
   "cell_type": "markdown",
   "metadata": {},
   "source": [
    "'적'과 같이 한 자로 된 단어를 제거하고 count vector 생성"
   ]
  },
  {
   "cell_type": "code",
   "execution_count": 17,
   "metadata": {},
   "outputs": [],
   "source": [
    "#count vector 새로 생성\n",
    "vec = CountVectorizer(tokenizer=tokenizer, decode_error ='ignore', \n",
    "                      max_df=0.5, max_features = 1000) #너무 자주 나타나는 단어는 제외\n",
    "review_cv = vec.fit_transform(text)"
   ]
  },
  {
   "cell_type": "code",
   "execution_count": 18,
   "metadata": {},
   "outputs": [
    {
     "name": "stdout",
     "output_type": "stream",
     "text": [
      "Topic #0: 경제, 일자리, 성장, 소득, 정부, 고용, 주도, 혁신, 경제정책, 성과\n",
      "Topic #1: 정책, 정부, 과제, 성과, 추진, 위원회, 변화, 위원장, 기획, 실장\n",
      "Topic #2: 동아일보, 반도체, 지난해, 세대, 정부, 시스템, 기업, 단독, 산업, 위해\n",
      "Topic #3: 미국, 브라질, 시간, 나루, 보우, 행사, 교육, 위해, 현지, 올해\n",
      "Topic #4: 오후, 채널, 오늘, 전달, 상균, 연합뉴스, 제공, 영상, 지난, 설명\n",
      "Topic #5: 청년, 회의, 대표, 위원회, 통상, 협의, 장관, 업무, 위원, 차관\n",
      "Topic #6: 원내대표, 민주당, 의원, 국회, 대표, 회의실, 이인영, 여의도, 신임, 토론회\n",
      "Topic #7: 직접, 마련, 헤럴드경제, 감사, 총리, 관심, 페이스북, 할머니, 그동안, 통해\n",
      "Topic #8: 관련, 수사, 사건, 경우, 검찰, 피해자, 대한, 당시, 대해, 조치\n",
      "Topic #9: 사진, 연합뉴스, 제공, 채널, 자료, 지난, 설명, 오늘, 영상, 모습\n",
      "Topic #10: 평가, 부정, 긍정, 지지율, 포인트, 한국, 국정, 응답, 결과, 조사\n",
      "Topic #11: 사람, 한국, 평화, 한반도, 세계, 광주, 질서, 국가, 국민, 나라\n",
      "Topic #12: 뉴시스, 통신사, 공감, 저작권, 언론, 박진희, 전신, 시세, 빅데이터, 주가\n",
      "Topic #13: 한국, 국회, 트랙, 패스트, 처리, 지정, 여야, 자유, 대표, 안건\n",
      "Topic #14: 대사, 신임장, 중국, 수여, 장하, 본관, 외교부, 신임, 남관, 왼쪽\n",
      "Topic #15: 북한, 북미, 대화, 정상회담, 비핵화, 남북, 한반도, 미국, 회담, 김정은\n",
      "Topic #16: 서비스, 활동, 노컷뉴스, 춘추관, 발달장애, 부모, 장애인, 요구, 도입, 시도\n",
      "Topic #17: 문제, 관계, 일본, 생각, 과거, 때문, 발전, 양국, 정치, 국내\n",
      "Topic #18: 조선, 바로가기, 전화, 제보, 홈페이지, 한국, 메인, 보기, 취재, 오늘\n",
      "Topic #19: 여야, 문제, 생각, 대해, 제안, 야당, 협의, 독재, 합의, 국면\n",
      "Topic #20: 북한, 발사, 발사체, 미사일, 단거리, 추정, 대화, 군사, 상황, 한미\n",
      "Topic #21: 정부, 비롯, 상황, 현안, 경향신문, 설명, 보기, 대한, 인기, 메인\n",
      "Topic #22: 청산, 협치, 농단, 적폐, 국정, 타협, 대해, 수사, 사회, 사법\n",
      "Topic #23: 방문, 재판, 삼성, 분야, 전자, 재벌, 부회장, 기획, 중소기업, 대기업\n",
      "Topic #24: 인사, 국민, 검증, 부분, 정치, 갈등, 생각, 야당, 노력, 우리\n",
      "Topic #25: 연합뉴스, 영상, 오늘, 채널, 배재, 오전, 임형섭, 촬영, 기념, 참석자\n",
      "Topic #26: 어린이, 초청, 행사, 어린이날, 산불, 아동, 소방관, 기념, 초등학교, 집무실\n",
      "Topic #27: 원로, 사회, 간담, 오찬, 초청, 장관, 환경부, 윤여준, 교수, 위원장\n",
      "Topic #28: 대해, 라며, 정부, 조선일보, 우리, 면서, 질문, 바로가기, 일이, 신청\n",
      "Topic #29: 메인, 포럼, 코리아, 크립, 허브, 피펫, 보고, 제공, 오전, 관련\n",
      "Topic #30: 검찰, 경찰, 수사권, 개혁, 수석, 조정, 입장, 총장, 우려, 법안\n",
      "Topic #31: 비서, 수석, 총선, 인사, 행정관, 출마, 관실, 내년, 선거, 교체\n",
      "Topic #32: 예정, 주년, 진행, 일정, 공식, 계획, 통해, 주요, 국민, 기념\n",
      "Topic #33: 최저임금, 인상, 부분, 고용, 우리, 해결, 결정, 노동자, 어려움, 생각\n",
      "Topic #34: 트럼프, 대변인, 정상, 방한, 통화, 브리핑, 미국, 고민정, 도널드, 한미\n",
      "Topic #35: 언론, 저작권, 앞서, 공감, 사진, 제공, 전신, 정부, 방향, 이야기\n",
      "Topic #36: 경제, 아시아, 추가, 관리, 최고, 과정, 세계, 메인, 재미, 과학\n",
      "Topic #37: 머니투데이, 최경민, 기회, 가정, 아파트, 변호사, 담소, 리얼타임, 살인, 방화\n",
      "Topic #38: 치매, 센터, 안심, 어르신, 여사, 가족, 금천구, 김정숙, 카네이션, 방문\n",
      "Topic #39: 제도, 과정, 문제, 확인, 기준, 인정, 발표, 결과, 개선, 수준\n",
      "Topic #40: 장관, 정부, 오전, 참석, 발언, 회의, 소통, 모습, 가운데, 공개\n",
      "Topic #41: 시민, 노무현, 라며, 정권, 시대, 시작, 역사, 강조, 촛불, 국민\n",
      "Topic #42: 지역, 전국, 행정, 직렬, 일반, 사업, 장애인, 본부, 소득, 농업\n",
      "Topic #43: 대담, 취임, 특집, 주년, 상춘, 출연, 질문, 하루, 프로그램, 인터뷰\n",
      "Topic #44: 청원, 국민, 한국, 해산, 정당, 동의, 자유, 답변, 게시판, 민주당\n",
      "Topic #45: 식량, 지원, 북한, 대북, 트럼프, 인도, 대표, 비핵화, 비건, 논의\n",
      "Topic #46: 통화, 이번, 논의, 의견, 대해, 방안, 대한, 이후, 지난, 교환\n",
      "Topic #47: 노동, 사회, 우리, 정부, 존중, 나라, 세상, 노동자, 메시지, 모두\n",
      "Topic #48: 이후, 현재, 얘기, 관계자, 지금, 만큼, 최근, 정도, 가운데, 자신\n",
      "Topic #49: 이데일리, 정보, 종합, 미디어, 보기, 영상, 경제, 가득, 우스, 청춘\n",
      "\n"
     ]
    }
   ],
   "source": [
    "#topic modeling 수행\n",
    "lda = LatentDirichletAllocation(n_components = 50, max_iter=25, \n",
    "                                topic_word_prior= 0.1, doc_topic_prior=1.0,\n",
    "                                learning_method='batch',\n",
    "                                n_jobs= -1,\n",
    "                                random_state=0)\n",
    "review_topics = lda.fit_transform(review_cv)\n",
    "print_top_words(lda,vec.get_feature_names(), 10)"
   ]
  },
  {
   "cell_type": "markdown",
   "metadata": {},
   "source": [
    "50개의 topic들을 대상으로 clustering을 수행해서 topic들이 잘 묶을 수 있는지 확인"
   ]
  },
  {
   "cell_type": "code",
   "execution_count": 19,
   "metadata": {},
   "outputs": [
    {
     "name": "stdout",
     "output_type": "stream",
     "text": [
      "topic-word distribution dimension: (50, 1000)\n",
      "Cluster label: [0 0 0 0 0 0 0 0 0 0 0 0 4 0 0 0 0 0 0 0 3 0 0 0 0 0 0 0 0 0 0 0 0 0 0 0 0\n",
      " 0 1 0 0 0 0 0 0 2 0 0 0 0]\n"
     ]
    }
   ],
   "source": [
    "from sklearn.cluster import KMeans\n",
    "\n",
    "kmeans = KMeans(n_clusters=5) #5개 클러스터로 분류\n",
    "kmeans.fit(lda.components_)\n",
    "\n",
    "print('topic-word distribution dimension:', lda.components_.shape)\n",
    "print('Cluster label:', kmeans.labels_)"
   ]
  },
  {
   "cell_type": "markdown",
   "metadata": {},
   "source": [
    "T-SNE를 이용하여 각 topic들 간의 관계를 시각화"
   ]
  },
  {
   "cell_type": "code",
   "execution_count": 20,
   "metadata": {},
   "outputs": [
    {
     "name": "stdout",
     "output_type": "stream",
     "text": [
      "TSNE dimension: (50, 2)\n"
     ]
    },
    {
     "data": {
      "text/plain": [
       "array([ 48.91141  ,  -4.7025714,   1.9565814,  25.215881 , -13.599938 ,\n",
       "        -4.5226607, -43.66287  ,  -0.6359522, -10.579671 ,  13.918764 ,\n",
       "       -37.38124  ,  67.73785  , -56.47292  ,   9.960046 ,  31.184013 ,\n",
       "         6.5688725, -16.198141 ,  41.741985 ,  -4.1491294,  26.522762 ,\n",
       "       -67.439735 ,   7.255467 ,  52.407    ,  13.14288  , -39.05863  ,\n",
       "        20.433344 ,  45.55296  , -35.835663 ,  27.541893 ,   2.2424552,\n",
       "        46.983124 , -26.278795 ,  11.3236685, -24.2321   ,  -8.757177 ,\n",
       "       -19.70464  ,  61.818874 ,  19.644676 , -63.22291  , -12.626607 ,\n",
       "        33.39131  ,  13.094208 ,  -2.7162936, -32.71362  , -42.947605 ,\n",
       "        24.026094 ,  24.300797 , -20.974653 , -26.747818 , -10.368649 ],\n",
       "      dtype=float32)"
      ]
     },
     "execution_count": 20,
     "metadata": {},
     "output_type": "execute_result"
    }
   ],
   "source": [
    "from sklearn.manifold import TSNE\n",
    "tsne = TSNE(n_components=2, random_state=42)\n",
    "tsne_review = tsne.fit_transform(lda.components_)\n",
    "print('TSNE dimension:', tsne_review.shape)\n",
    "tsne_review[:,0]"
   ]
  },
  {
   "cell_type": "code",
   "execution_count": 21,
   "metadata": {},
   "outputs": [],
   "source": [
    "%matplotlib inline\n",
    "import matplotlib.pyplot as plt\n",
    "from matplotlib import font_manager, rc\n",
    "font_name = font_manager.FontProperties(fname=\"c:/Windows/Fonts/malgun.ttf\").get_name()\n",
    "rc('font', family=font_name)\n",
    "import matplotlib as mpl\n",
    "\n",
    "# 그래프에서 마이너스 폰트 깨지는 문제에 대한 대처\n",
    "mpl.rcParams['axes.unicode_minus'] = False"
   ]
  },
  {
   "cell_type": "code",
   "execution_count": 22,
   "metadata": {},
   "outputs": [
    {
     "data": {
      "image/png": "[encoded data removed]",
      "text/plain": [
       "<Figure size 432x288 with 1 Axes>"
      ]
     },
     "metadata": {
      "needs_background": "light"
     },
     "output_type": "display_data"
    },
    {
     "data": {
      "image/png": "[encoded data removed]",
      "text/plain": [
       "<Figure size 1080x720 with 1 Axes>"
      ]
     },
     "metadata": {
      "needs_background": "light"
     },
     "output_type": "display_data"
    }
   ],
   "source": [
    "colors = {0:'blue', 1:'yellow', 2:'red', 3:'green', 4:'purple'}\n",
    "x1 = tsne_review[:,0]\n",
    "x2 = tsne_review[:,1]\n",
    "plt.scatter(x1, x2)\n",
    "\n",
    "plt.figure(figsize=(15,10))\n",
    "plt.xlim(min(x1), max(x1))\n",
    "plt.ylim(min(x2), max(x2))\n",
    "for i in range(len(x1)):\n",
    "#    plt.text(X1_lsi[i], X2_lsi[i], sample_label[i],\n",
    "#            color = colors[sample_label[i]])\n",
    "    plt.text(x1[i], x2[i], kmeans.labels_[i],\n",
    "            color = colors[kmeans.labels_[i]])\n",
    "\n",
    "#for word, pos in df.iterrows():\n",
    "#    ax.annotate(word, pos, fontsize=30)\n",
    "plt.show()\n",
    "\n",
    "#아래 결과를 보면 각 topic들이 고르게 분포하고 있어, 클러스터링이 별로 의미 없음을 알 수 있음"
   ]
  },
  {
   "cell_type": "markdown",
   "metadata": {},
   "source": [
    "#### 최적의 결과를 찾기 위한 방법\n",
    "적절한 topic의 수는 perplexity 값을 이용해 찾음.<br>\n",
    "낮을 수록 좋은 모형이나, 사람의 판단과 일치하지 않을 수 있음<br>\n",
    "http://qpleple.com/perplexity-to-evaluate-topic-models/ <br>\n",
    "그 외에 alpha, beta는 앞서 설명한 바와 같이 beta=0.1로 고정하고 alpha를 50/토픽수 근처에서 찾아나감<br>\n",
    "반복횟수는 5,000번 정도면 수렴"
   ]
  },
  {
   "cell_type": "code",
   "execution_count": 23,
   "metadata": {},
   "outputs": [
    {
     "data": {
      "text/plain": [
       "328.212530268355"
      ]
     },
     "execution_count": 23,
     "metadata": {},
     "output_type": "execute_result"
    }
   ],
   "source": [
    "lda.perplexity(review_cv)"
   ]
  },
  {
   "cell_type": "code",
   "execution_count": 24,
   "metadata": {},
   "outputs": [
    {
     "name": "stdout",
     "output_type": "stream",
     "text": [
      "Topic #0: 정책, 정부, 경제, 소득, 성과, 일자리, 최저임금, 인상, 고용, 과제\n",
      "Topic #1: 청원, 국민, 한국, 해산, 의원, 답변, 정당, 기준, 동의, 자유\n",
      "Topic #2: 경찰, 검찰, 수석, 수사권, 개혁, 조정, 우려, 입장, 대한, 총장\n",
      "Topic #3: 트럼프, 통화, 정상, 미국, 대변인, 대해, 방한, 논의, 방안, 도널드\n",
      "Topic #4: 어린이, 행사, 초청, 어린이날, 산불, 기념, 아동, 소방관, 피해, 집무실\n",
      "Topic #5: 정책, 청년, 원내대표, 민주당, 비서, 회의, 대표, 의원, 장관, 국회\n",
      "Topic #6: 뉴시스, 저작권, 언론, 공감, 통신사, 전신, 머니투데이, 박진희, 빅데이터, 시세\n",
      "Topic #7: 경제, 시민, 아시아, 메인, 채널, 관리, 추가, 노무현, 최고, 통해\n",
      "Topic #8: 인사, 검증, 장관, 관련, 대해, 부분, 국민, 실패, 과정, 때문\n",
      "Topic #9: 대담, 취임, 주년, 특집, 출연, 상춘, 질문, 진행, 하루, 인터뷰\n",
      "Topic #10: 평가, 부정, 긍정, 지지율, 포인트, 한국, 국정, 결과, 정책, 조사\n",
      "Topic #11: 사람, 한국, 평화, 한반도, 세계, 광주, 국민, 국가, 질서, 촛불\n",
      "Topic #12: 치매, 센터, 안심, 어르신, 여사, 가족, 금천구, 김정숙, 방문, 카네이션\n",
      "Topic #13: 국회, 한국, 트랙, 패스트, 여야, 대표, 자유, 처리, 원내대표, 지정\n",
      "Topic #14: 대사, 오후, 신임장, 중국, 수여, 신임, 참석, 장하, 외교, 본관\n",
      "Topic #15: 정상회담, 한반도, 북미, 대북, 대표, 북한, 비핵화, 지원, 한미, 식량\n",
      "Topic #16: 지역, 전국, 서비스, 활동, 춘추관, 노컷뉴스, 장애인, 발달장애, 부모, 요구\n",
      "Topic #17: 노동, 정부, 관계, 우리, 사회, 과거, 문제, 세상, 발전, 일본\n",
      "Topic #18: 연합뉴스, 오늘, 채널, 조선, 메인, 오전, 포럼, 코리아, 제공, 영상\n",
      "Topic #19: 문제, 대해, 지원, 생각, 식량, 여야, 때문, 대화, 지금, 합의\n",
      "Topic #20: 북한, 발사, 발사체, 미사일, 단거리, 대화, 식량, 상황, 도발, 추정\n",
      "Topic #21: 영상, 이데일리, 보기, 오후, 정보, 종합, 사진, 연합뉴스, 미디어, 경향신문\n",
      "Topic #22: 대해, 청산, 협치, 농단, 적폐, 국정, 타협, 발언, 수사, 사법\n",
      "Topic #23: 분야, 반도체, 방문, 삼성, 정부, 시스템, 전자, 재판, 성장, 부회장\n",
      "Topic #24: 사회, 원로, 간담, 오찬, 장관, 초청, 교수, 위원장, 환경부, 윤여준\n",
      "\n"
     ]
    },
    {
     "data": {
      "text/plain": [
       "348.8295865737118"
      ]
     },
     "execution_count": 24,
     "metadata": {},
     "output_type": "execute_result"
    }
   ],
   "source": [
    "#topic modeling 수행\n",
    "lda = LatentDirichletAllocation(n_components = 25, max_iter=25, \n",
    "                                topic_word_prior= 0.1, doc_topic_prior=2.0,\n",
    "                                learning_method='batch',\n",
    "                                n_jobs= -1,\n",
    "                                random_state=0)\n",
    "review_topics = lda.fit_transform(review_cv)\n",
    "print_top_words(lda,vec.get_feature_names(), 10)\n",
    "lda.perplexity(review_cv)"
   ]
  },
  {
   "cell_type": "code",
   "execution_count": 25,
   "metadata": {},
   "outputs": [
    {
     "name": "stdout",
     "output_type": "stream",
     "text": [
      "Topic #0: 정책, 경제, 정부, 노동, 청년, 일자리, 소득, 성장, 최저임금, 사회\n",
      "Topic #1: 한국, 청원, 원내대표, 민주당, 국회, 국민, 대표, 의원, 자유, 비서\n",
      "Topic #2: 검찰, 경찰, 개혁, 수석, 평가, 수사권, 조정, 부정, 대한, 법안\n",
      "Topic #3: 치매, 센터, 안심, 어르신, 방문, 이데일리, 가족, 여사, 금천구, 방한\n",
      "Topic #4: 연합뉴스, 어린이, 행사, 오늘, 영상, 채널, 초청, 어린이날, 산불, 조선\n",
      "Topic #5: 사람, 평화, 한국, 한반도, 세계, 시민, 국민, 국가, 광주, 질서\n",
      "Topic #6: 뉴시스, 저작권, 언론, 공감, 통신사, 대사, 전신, 머니투데이, 박진희, 오후\n",
      "Topic #7: 사회, 원로, 간담, 오찬, 장관, 초청, 위원장, 교수, 정책, 환경부\n",
      "Topic #8: 대해, 대담, 생각, 문제, 취임, 특집, 정부, 주년, 때문, 정치\n",
      "Topic #9: 북한, 발사, 발사체, 식량, 트럼프, 대해, 통화, 대화, 지원, 한미\n",
      "\n"
     ]
    },
    {
     "data": {
      "text/plain": [
       "358.01412582025074"
      ]
     },
     "execution_count": 25,
     "metadata": {},
     "output_type": "execute_result"
    }
   ],
   "source": [
    "#topic modeling 수행\n",
    "lda = LatentDirichletAllocation(n_components = 10, max_iter=25, \n",
    "                                topic_word_prior= 0.1, doc_topic_prior=1.0,\n",
    "                                learning_method='batch',\n",
    "                                n_jobs= -1,\n",
    "                                random_state=0)\n",
    "review_topics = lda.fit_transform(review_cv)\n",
    "print_top_words(lda,vec.get_feature_names(), 10)\n",
    "lda.perplexity(review_cv)"
   ]
  }
 ],
 "metadata": {
  "kernelspec": {
   "display_name": "Python 3",
   "language": "python",
   "name": "python3"
  },
  "language_info": {
   "codemirror_mode": {
    "name": "ipython",
    "version": 3
   },
   "file_extension": ".py",
   "mimetype": "text/x-python",
   "name": "python",
   "nbconvert_exporter": "python",
   "pygments_lexer": "ipython3",
   "version": "3.8.3"
  }
 },
 "nbformat": 4,
 "nbformat_minor": 2
}
